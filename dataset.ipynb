{
 "cells": [
  {
   "cell_type": "code",
   "execution_count": 1,
   "metadata": {},
   "outputs": [],
   "source": [
    "import requests\n",
    "from bs4 import BeautifulSoup\n",
    "import time\n",
    "from urllib.parse import urlparse"
   ]
  },
  {
   "cell_type": "code",
   "execution_count": null,
   "metadata": {},
   "outputs": [],
   "source": [
    "\n",
    "def scrape_islamqa_topic(url):\n",
    "    # Extract topic name from URL\n",
    "    parsed_url = urlparse(url)\n",
    "    path_segments = parsed_url.path.split('/')\n",
    "    topic_name = path_segments[-1] if path_segments[-1] else path_segments[-2]\n",
    "    \n",
    "    result = {\n",
    "        topic_name: {\n",
    "            \"title\": \"\",\n",
    "            \"description\": \"\",\n",
    "            \"questions\": []\n",
    "        }\n",
    "    }\n",
    "    \n",
    "    headers = {\n",
    "        'User-Agent': 'Mozilla/5.0 (Windows NT 10.0; Win64; x64) AppleWebKit/537.36 (KHTML, like Gecko) Chrome/58.0.3029.110 Safari/537.3'\n",
    "    }\n",
    "    \n",
    "    current_url = url\n",
    "    title_extracted = False\n",
    "    \n",
    "    while current_url:\n",
    "        try:\n",
    "            # Respectful delay between requests\n",
    "            time.sleep(0.05)\n",
    "            \n",
    "            response = requests.get(current_url, headers=headers)\n",
    "            response.raise_for_status()\n",
    "            \n",
    "            soup = BeautifulSoup(response.content, 'html.parser')\n",
    "            \n",
    "            if not title_extracted:\n",
    "                # Extract title\n",
    "                title_tag = soup.find('h1', class_='title')\n",
    "                if title_tag:\n",
    "                    result[topic_name]['title'] = title_tag.get_text(strip=True)\n",
    "                \n",
    "                # Extract description\n",
    "                subtitle_tag = soup.find('p', class_='subtitle')\n",
    "                if subtitle_tag:\n",
    "                    description_tag = subtitle_tag.find('p')\n",
    "                    if description_tag:\n",
    "                        result[topic_name]['description'] = description_tag.get_text(strip=True)\n",
    "                \n",
    "                title_extracted = True\n",
    "            \n",
    "            # Extract question links\n",
    "            question_cards = soup.select('div.single-topic a.post-card')\n",
    "            for card in question_cards:\n",
    "                href = card.get('href')\n",
    "                if href:\n",
    "                    result[topic_name]['questions'].append(href)\n",
    "            \n",
    "            # Handle pagination\n",
    "            next_li = soup.find('li', class_='next')\n",
    "            if next_li and next_li.a:\n",
    "\n",
    "                current_url = next_li.a.get('href', None)\n",
    "            else:\n",
    "                current_url = None\n",
    "                \n",
    "        except requests.exceptions.RequestException as e:\n",
    "            print(f\"Error fetching {current_url}: {e}\")\n",
    "            break\n",
    "            \n",
    "    return result"
   ]
  },
  {
   "cell_type": "code",
   "execution_count": 3,
   "metadata": {},
   "outputs": [
    {
     "ename": "KeyError",
     "evalue": "'href'",
     "output_type": "error",
     "traceback": [
      "\u001b[31m---------------------------------------------------------------------------\u001b[39m",
      "\u001b[31mKeyError\u001b[39m                                  Traceback (most recent call last)",
      "\u001b[36mCell\u001b[39m\u001b[36m \u001b[39m\u001b[32mIn[3]\u001b[39m\u001b[32m, line 3\u001b[39m\n\u001b[32m      1\u001b[39m \u001b[38;5;28;01mif\u001b[39;00m \u001b[34m__name__\u001b[39m == \u001b[33m\"\u001b[39m\u001b[33m__main__\u001b[39m\u001b[33m\"\u001b[39m:\n\u001b[32m      2\u001b[39m     target_url = \u001b[33m\"\u001b[39m\u001b[33mhttps://islamqa.info/en/categories/topics/269/islamic-politics\u001b[39m\u001b[33m\"\u001b[39m\n\u001b[32m----> \u001b[39m\u001b[32m3\u001b[39m     scraped_data = \u001b[43mscrape_islamqa_topic\u001b[49m\u001b[43m(\u001b[49m\u001b[43mtarget_url\u001b[49m\u001b[43m)\u001b[49m\n\u001b[32m      4\u001b[39m     \u001b[38;5;28mprint\u001b[39m(scraped_data)\n",
      "\u001b[36mCell\u001b[39m\u001b[36m \u001b[39m\u001b[32mIn[2]\u001b[39m\u001b[32m, line 57\u001b[39m, in \u001b[36mscrape_islamqa_topic\u001b[39m\u001b[34m(url)\u001b[39m\n\u001b[32m     55\u001b[39m next_li = soup.find(\u001b[33m'\u001b[39m\u001b[33mli\u001b[39m\u001b[33m'\u001b[39m, class_=\u001b[33m'\u001b[39m\u001b[33mnext\u001b[39m\u001b[33m'\u001b[39m)\n\u001b[32m     56\u001b[39m \u001b[38;5;28;01mif\u001b[39;00m next_li \u001b[38;5;129;01mand\u001b[39;00m next_li.a:\n\u001b[32m---> \u001b[39m\u001b[32m57\u001b[39m     current_url = \u001b[43mnext_li\u001b[49m\u001b[43m.\u001b[49m\u001b[43ma\u001b[49m\u001b[43m[\u001b[49m\u001b[33;43m'\u001b[39;49m\u001b[33;43mhref\u001b[39;49m\u001b[33;43m'\u001b[39;49m\u001b[43m]\u001b[49m\n\u001b[32m     58\u001b[39m \u001b[38;5;28;01melse\u001b[39;00m:\n\u001b[32m     59\u001b[39m     current_url = \u001b[38;5;28;01mNone\u001b[39;00m\n",
      "\u001b[36mFile \u001b[39m\u001b[32m~/.cache/pypoetry/virtualenvs/sharai-plc3aN76-py3.12/lib/python3.12/site-packages/bs4/element.py:2206\u001b[39m, in \u001b[36mTag.__getitem__\u001b[39m\u001b[34m(self, key)\u001b[39m\n\u001b[32m   2203\u001b[39m \u001b[38;5;28;01mdef\u001b[39;00m\u001b[38;5;250m \u001b[39m\u001b[34m__getitem__\u001b[39m(\u001b[38;5;28mself\u001b[39m, key: \u001b[38;5;28mstr\u001b[39m) -> _AttributeValue:\n\u001b[32m   2204\u001b[39m \u001b[38;5;250m    \u001b[39m\u001b[33;03m\"\"\"tag[key] returns the value of the 'key' attribute for the Tag,\u001b[39;00m\n\u001b[32m   2205\u001b[39m \u001b[33;03m    and throws an exception if it's not there.\"\"\"\u001b[39;00m\n\u001b[32m-> \u001b[39m\u001b[32m2206\u001b[39m     \u001b[38;5;28;01mreturn\u001b[39;00m \u001b[38;5;28;43mself\u001b[39;49m\u001b[43m.\u001b[49m\u001b[43mattrs\u001b[49m\u001b[43m[\u001b[49m\u001b[43mkey\u001b[49m\u001b[43m]\u001b[49m\n",
      "\u001b[31mKeyError\u001b[39m: 'href'"
     ]
    }
   ],
   "source": [
    "\n",
    "if __name__ == \"__main__\":\n",
    "    target_url = \"https://islamqa.info/en/categories/topics/269/islamic-politics\"\n",
    "    scraped_data = scrape_islamqa_topic(target_url)\n",
    "    print(scraped_data)"
   ]
  },
  {
   "cell_type": "code",
   "execution_count": null,
   "metadata": {},
   "outputs": [],
   "source": []
  }
 ],
 "metadata": {
  "kernelspec": {
   "display_name": "sharai-plc3aN76-py3.12",
   "language": "python",
   "name": "python3"
  },
  "language_info": {
   "codemirror_mode": {
    "name": "ipython",
    "version": 3
   },
   "file_extension": ".py",
   "mimetype": "text/x-python",
   "name": "python",
   "nbconvert_exporter": "python",
   "pygments_lexer": "ipython3",
   "version": "3.12.3"
  }
 },
 "nbformat": 4,
 "nbformat_minor": 2
}
